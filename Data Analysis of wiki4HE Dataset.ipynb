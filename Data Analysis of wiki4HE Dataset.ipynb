{
 "cells": [
  {
   "cell_type": "markdown",
   "id": "61762dc6",
   "metadata": {},
   "source": [
    "<h1 align=\"center\"> Project : Data Analysis of wiki4HE Dataset </h2>\n",
    "<h6 align=\"right\" >  Mohamed Amine Lahyani </h6>\n",
    "</br>"
   ]
  },
  {
   "cell_type": "markdown",
   "id": "bfe83987",
   "metadata": {},
   "source": [
    "## 1/ Importing libraries:"
   ]
  },
  {
   "cell_type": "code",
   "execution_count": 331,
   "id": "a21ad2c4",
   "metadata": {},
   "outputs": [],
   "source": [
    "import pandas as pd\n",
    "import numpy as np \n",
    "import matplotlib.pyplot as plt\n",
    "import seaborn as sns\n",
    "import warnings \n",
    "warnings.filterwarnings(\"ignore\")"
   ]
  },
  {
   "cell_type": "markdown",
   "id": "3fa4e80f",
   "metadata": {},
   "source": [
    "## 2/ Data exploration"
   ]
  },
  {
   "cell_type": "code",
   "execution_count": 332,
   "id": "780a3216",
   "metadata": {},
   "outputs": [],
   "source": [
    "data = pd.read_csv(\"wiki4HE.csv\", sep=\";\")"
   ]
  },
  {
   "cell_type": "code",
   "execution_count": 333,
   "id": "2df502a3",
   "metadata": {
    "scrolled": true
   },
   "outputs": [
    {
     "data": {
      "text/html": [
       "<div>\n",
       "<style scoped>\n",
       "    .dataframe tbody tr th:only-of-type {\n",
       "        vertical-align: middle;\n",
       "    }\n",
       "\n",
       "    .dataframe tbody tr th {\n",
       "        vertical-align: top;\n",
       "    }\n",
       "\n",
       "    .dataframe thead th {\n",
       "        text-align: right;\n",
       "    }\n",
       "</style>\n",
       "<table border=\"1\" class=\"dataframe\">\n",
       "  <thead>\n",
       "    <tr style=\"text-align: right;\">\n",
       "      <th></th>\n",
       "      <th>AGE</th>\n",
       "      <th>GENDER</th>\n",
       "      <th>DOMAIN</th>\n",
       "      <th>PhD</th>\n",
       "      <th>YEARSEXP</th>\n",
       "      <th>UNIVERSITY</th>\n",
       "      <th>UOC_POSITION</th>\n",
       "      <th>OTHER_POSITION</th>\n",
       "      <th>OTHERSTATUS</th>\n",
       "      <th>USERWIKI</th>\n",
       "      <th>...</th>\n",
       "      <th>BI2</th>\n",
       "      <th>Inc1</th>\n",
       "      <th>Inc2</th>\n",
       "      <th>Inc3</th>\n",
       "      <th>Inc4</th>\n",
       "      <th>Exp1</th>\n",
       "      <th>Exp2</th>\n",
       "      <th>Exp3</th>\n",
       "      <th>Exp4</th>\n",
       "      <th>Exp5</th>\n",
       "    </tr>\n",
       "  </thead>\n",
       "  <tbody>\n",
       "    <tr>\n",
       "      <th>0</th>\n",
       "      <td>40</td>\n",
       "      <td>0</td>\n",
       "      <td>2</td>\n",
       "      <td>1</td>\n",
       "      <td>14</td>\n",
       "      <td>1</td>\n",
       "      <td>2</td>\n",
       "      <td>?</td>\n",
       "      <td>?</td>\n",
       "      <td>0</td>\n",
       "      <td>...</td>\n",
       "      <td>3</td>\n",
       "      <td>5</td>\n",
       "      <td>5</td>\n",
       "      <td>5</td>\n",
       "      <td>5</td>\n",
       "      <td>4</td>\n",
       "      <td>4</td>\n",
       "      <td>4</td>\n",
       "      <td>1</td>\n",
       "      <td>2</td>\n",
       "    </tr>\n",
       "    <tr>\n",
       "      <th>1</th>\n",
       "      <td>42</td>\n",
       "      <td>0</td>\n",
       "      <td>5</td>\n",
       "      <td>1</td>\n",
       "      <td>18</td>\n",
       "      <td>1</td>\n",
       "      <td>2</td>\n",
       "      <td>?</td>\n",
       "      <td>?</td>\n",
       "      <td>0</td>\n",
       "      <td>...</td>\n",
       "      <td>2</td>\n",
       "      <td>4</td>\n",
       "      <td>4</td>\n",
       "      <td>3</td>\n",
       "      <td>4</td>\n",
       "      <td>2</td>\n",
       "      <td>2</td>\n",
       "      <td>4</td>\n",
       "      <td>2</td>\n",
       "      <td>4</td>\n",
       "    </tr>\n",
       "    <tr>\n",
       "      <th>2</th>\n",
       "      <td>37</td>\n",
       "      <td>0</td>\n",
       "      <td>4</td>\n",
       "      <td>1</td>\n",
       "      <td>13</td>\n",
       "      <td>1</td>\n",
       "      <td>3</td>\n",
       "      <td>?</td>\n",
       "      <td>?</td>\n",
       "      <td>0</td>\n",
       "      <td>...</td>\n",
       "      <td>1</td>\n",
       "      <td>5</td>\n",
       "      <td>3</td>\n",
       "      <td>5</td>\n",
       "      <td>5</td>\n",
       "      <td>2</td>\n",
       "      <td>2</td>\n",
       "      <td>2</td>\n",
       "      <td>1</td>\n",
       "      <td>3</td>\n",
       "    </tr>\n",
       "    <tr>\n",
       "      <th>3</th>\n",
       "      <td>40</td>\n",
       "      <td>0</td>\n",
       "      <td>4</td>\n",
       "      <td>0</td>\n",
       "      <td>13</td>\n",
       "      <td>1</td>\n",
       "      <td>3</td>\n",
       "      <td>?</td>\n",
       "      <td>?</td>\n",
       "      <td>0</td>\n",
       "      <td>...</td>\n",
       "      <td>3</td>\n",
       "      <td>3</td>\n",
       "      <td>4</td>\n",
       "      <td>4</td>\n",
       "      <td>3</td>\n",
       "      <td>4</td>\n",
       "      <td>4</td>\n",
       "      <td>3</td>\n",
       "      <td>3</td>\n",
       "      <td>4</td>\n",
       "    </tr>\n",
       "    <tr>\n",
       "      <th>4</th>\n",
       "      <td>51</td>\n",
       "      <td>0</td>\n",
       "      <td>6</td>\n",
       "      <td>0</td>\n",
       "      <td>8</td>\n",
       "      <td>1</td>\n",
       "      <td>3</td>\n",
       "      <td>?</td>\n",
       "      <td>?</td>\n",
       "      <td>1</td>\n",
       "      <td>...</td>\n",
       "      <td>5</td>\n",
       "      <td>5</td>\n",
       "      <td>5</td>\n",
       "      <td>4</td>\n",
       "      <td>4</td>\n",
       "      <td>5</td>\n",
       "      <td>5</td>\n",
       "      <td>5</td>\n",
       "      <td>4</td>\n",
       "      <td>4</td>\n",
       "    </tr>\n",
       "    <tr>\n",
       "      <th>5</th>\n",
       "      <td>47</td>\n",
       "      <td>0</td>\n",
       "      <td>4</td>\n",
       "      <td>0</td>\n",
       "      <td>17</td>\n",
       "      <td>1</td>\n",
       "      <td>3</td>\n",
       "      <td>?</td>\n",
       "      <td>?</td>\n",
       "      <td>0</td>\n",
       "      <td>...</td>\n",
       "      <td>4</td>\n",
       "      <td>5</td>\n",
       "      <td>3</td>\n",
       "      <td>2</td>\n",
       "      <td>4</td>\n",
       "      <td>4</td>\n",
       "      <td>3</td>\n",
       "      <td>4</td>\n",
       "      <td>1</td>\n",
       "      <td>4</td>\n",
       "    </tr>\n",
       "    <tr>\n",
       "      <th>6</th>\n",
       "      <td>43</td>\n",
       "      <td>0</td>\n",
       "      <td>4</td>\n",
       "      <td>0</td>\n",
       "      <td>11</td>\n",
       "      <td>1</td>\n",
       "      <td>3</td>\n",
       "      <td>?</td>\n",
       "      <td>?</td>\n",
       "      <td>0</td>\n",
       "      <td>...</td>\n",
       "      <td>4</td>\n",
       "      <td>4</td>\n",
       "      <td>4</td>\n",
       "      <td>4</td>\n",
       "      <td>1</td>\n",
       "      <td>4</td>\n",
       "      <td>5</td>\n",
       "      <td>5</td>\n",
       "      <td>2</td>\n",
       "      <td>2</td>\n",
       "    </tr>\n",
       "    <tr>\n",
       "      <th>7</th>\n",
       "      <td>55</td>\n",
       "      <td>0</td>\n",
       "      <td>6</td>\n",
       "      <td>0</td>\n",
       "      <td>12</td>\n",
       "      <td>1</td>\n",
       "      <td>3</td>\n",
       "      <td>?</td>\n",
       "      <td>?</td>\n",
       "      <td>0</td>\n",
       "      <td>...</td>\n",
       "      <td>4</td>\n",
       "      <td>3</td>\n",
       "      <td>3</td>\n",
       "      <td>3</td>\n",
       "      <td>3</td>\n",
       "      <td>4</td>\n",
       "      <td>4</td>\n",
       "      <td>3</td>\n",
       "      <td>1</td>\n",
       "      <td>4</td>\n",
       "    </tr>\n",
       "    <tr>\n",
       "      <th>8</th>\n",
       "      <td>54</td>\n",
       "      <td>0</td>\n",
       "      <td>1</td>\n",
       "      <td>1</td>\n",
       "      <td>14</td>\n",
       "      <td>1</td>\n",
       "      <td>2</td>\n",
       "      <td>?</td>\n",
       "      <td>?</td>\n",
       "      <td>0</td>\n",
       "      <td>...</td>\n",
       "      <td>3</td>\n",
       "      <td>5</td>\n",
       "      <td>5</td>\n",
       "      <td>4</td>\n",
       "      <td>2</td>\n",
       "      <td>5</td>\n",
       "      <td>5</td>\n",
       "      <td>5</td>\n",
       "      <td>1</td>\n",
       "      <td>1</td>\n",
       "    </tr>\n",
       "    <tr>\n",
       "      <th>9</th>\n",
       "      <td>50</td>\n",
       "      <td>0</td>\n",
       "      <td>4</td>\n",
       "      <td>1</td>\n",
       "      <td>25</td>\n",
       "      <td>1</td>\n",
       "      <td>2</td>\n",
       "      <td>?</td>\n",
       "      <td>?</td>\n",
       "      <td>0</td>\n",
       "      <td>...</td>\n",
       "      <td>5</td>\n",
       "      <td>5</td>\n",
       "      <td>5</td>\n",
       "      <td>5</td>\n",
       "      <td>5</td>\n",
       "      <td>4</td>\n",
       "      <td>5</td>\n",
       "      <td>2</td>\n",
       "      <td>1</td>\n",
       "      <td>1</td>\n",
       "    </tr>\n",
       "  </tbody>\n",
       "</table>\n",
       "<p>10 rows × 53 columns</p>\n",
       "</div>"
      ],
      "text/plain": [
       "   AGE  GENDER DOMAIN  PhD YEARSEXP  UNIVERSITY UOC_POSITION OTHER_POSITION   \n",
       "0   40       0      2    1       14           1            2              ?  \\\n",
       "1   42       0      5    1       18           1            2              ?   \n",
       "2   37       0      4    1       13           1            3              ?   \n",
       "3   40       0      4    0       13           1            3              ?   \n",
       "4   51       0      6    0        8           1            3              ?   \n",
       "5   47       0      4    0       17           1            3              ?   \n",
       "6   43       0      4    0       11           1            3              ?   \n",
       "7   55       0      6    0       12           1            3              ?   \n",
       "8   54       0      1    1       14           1            2              ?   \n",
       "9   50       0      4    1       25           1            2              ?   \n",
       "\n",
       "  OTHERSTATUS USERWIKI  ... BI2 Inc1 Inc2 Inc3 Inc4 Exp1 Exp2 Exp3 Exp4 Exp5  \n",
       "0           ?        0  ...   3    5    5    5    5    4    4    4    1    2  \n",
       "1           ?        0  ...   2    4    4    3    4    2    2    4    2    4  \n",
       "2           ?        0  ...   1    5    3    5    5    2    2    2    1    3  \n",
       "3           ?        0  ...   3    3    4    4    3    4    4    3    3    4  \n",
       "4           ?        1  ...   5    5    5    4    4    5    5    5    4    4  \n",
       "5           ?        0  ...   4    5    3    2    4    4    3    4    1    4  \n",
       "6           ?        0  ...   4    4    4    4    1    4    5    5    2    2  \n",
       "7           ?        0  ...   4    3    3    3    3    4    4    3    1    4  \n",
       "8           ?        0  ...   3    5    5    4    2    5    5    5    1    1  \n",
       "9           ?        0  ...   5    5    5    5    5    4    5    2    1    1  \n",
       "\n",
       "[10 rows x 53 columns]"
      ]
     },
     "execution_count": 333,
     "metadata": {},
     "output_type": "execute_result"
    }
   ],
   "source": [
    "data.head(10)"
   ]
  },
  {
   "cell_type": "code",
   "execution_count": 251,
   "id": "1ac5dc24",
   "metadata": {},
   "outputs": [
    {
     "data": {
      "text/html": [
       "<div>\n",
       "<style scoped>\n",
       "    .dataframe tbody tr th:only-of-type {\n",
       "        vertical-align: middle;\n",
       "    }\n",
       "\n",
       "    .dataframe tbody tr th {\n",
       "        vertical-align: top;\n",
       "    }\n",
       "\n",
       "    .dataframe thead th {\n",
       "        text-align: right;\n",
       "    }\n",
       "</style>\n",
       "<table border=\"1\" class=\"dataframe\">\n",
       "  <thead>\n",
       "    <tr style=\"text-align: right;\">\n",
       "      <th></th>\n",
       "      <th>AGE</th>\n",
       "      <th>GENDER</th>\n",
       "      <th>DOMAIN</th>\n",
       "      <th>PhD</th>\n",
       "      <th>YEARSEXP</th>\n",
       "      <th>UNIVERSITY</th>\n",
       "      <th>UOC_POSITION</th>\n",
       "      <th>OTHER_POSITION</th>\n",
       "      <th>OTHERSTATUS</th>\n",
       "      <th>USERWIKI</th>\n",
       "      <th>...</th>\n",
       "      <th>BI2</th>\n",
       "      <th>Inc1</th>\n",
       "      <th>Inc2</th>\n",
       "      <th>Inc3</th>\n",
       "      <th>Inc4</th>\n",
       "      <th>Exp1</th>\n",
       "      <th>Exp2</th>\n",
       "      <th>Exp3</th>\n",
       "      <th>Exp4</th>\n",
       "      <th>Exp5</th>\n",
       "    </tr>\n",
       "  </thead>\n",
       "  <tbody>\n",
       "    <tr>\n",
       "      <th>903</th>\n",
       "      <td>45</td>\n",
       "      <td>0</td>\n",
       "      <td>6</td>\n",
       "      <td>0</td>\n",
       "      <td>18</td>\n",
       "      <td>2</td>\n",
       "      <td>?</td>\n",
       "      <td>?</td>\n",
       "      <td>7</td>\n",
       "      <td>1</td>\n",
       "      <td>...</td>\n",
       "      <td>5</td>\n",
       "      <td>5</td>\n",
       "      <td>5</td>\n",
       "      <td>4</td>\n",
       "      <td>4</td>\n",
       "      <td>5</td>\n",
       "      <td>5</td>\n",
       "      <td>5</td>\n",
       "      <td>3</td>\n",
       "      <td>4</td>\n",
       "    </tr>\n",
       "    <tr>\n",
       "      <th>904</th>\n",
       "      <td>34</td>\n",
       "      <td>1</td>\n",
       "      <td>1</td>\n",
       "      <td>1</td>\n",
       "      <td>6</td>\n",
       "      <td>2</td>\n",
       "      <td>?</td>\n",
       "      <td>?</td>\n",
       "      <td>7</td>\n",
       "      <td>0</td>\n",
       "      <td>...</td>\n",
       "      <td>2</td>\n",
       "      <td>4</td>\n",
       "      <td>3</td>\n",
       "      <td>4</td>\n",
       "      <td>4</td>\n",
       "      <td>5</td>\n",
       "      <td>5</td>\n",
       "      <td>5</td>\n",
       "      <td>1</td>\n",
       "      <td>2</td>\n",
       "    </tr>\n",
       "    <tr>\n",
       "      <th>905</th>\n",
       "      <td>48</td>\n",
       "      <td>0</td>\n",
       "      <td>6</td>\n",
       "      <td>1</td>\n",
       "      <td>21</td>\n",
       "      <td>2</td>\n",
       "      <td>?</td>\n",
       "      <td>?</td>\n",
       "      <td>2</td>\n",
       "      <td>0</td>\n",
       "      <td>...</td>\n",
       "      <td>1</td>\n",
       "      <td>3</td>\n",
       "      <td>4</td>\n",
       "      <td>3</td>\n",
       "      <td>5</td>\n",
       "      <td>4</td>\n",
       "      <td>5</td>\n",
       "      <td>4</td>\n",
       "      <td>1</td>\n",
       "      <td>1</td>\n",
       "    </tr>\n",
       "    <tr>\n",
       "      <th>906</th>\n",
       "      <td>50</td>\n",
       "      <td>0</td>\n",
       "      <td>6</td>\n",
       "      <td>1</td>\n",
       "      <td>1</td>\n",
       "      <td>2</td>\n",
       "      <td>?</td>\n",
       "      <td>?</td>\n",
       "      <td>7</td>\n",
       "      <td>0</td>\n",
       "      <td>...</td>\n",
       "      <td>?</td>\n",
       "      <td>?</td>\n",
       "      <td>?</td>\n",
       "      <td>?</td>\n",
       "      <td>?</td>\n",
       "      <td>1</td>\n",
       "      <td>1</td>\n",
       "      <td>2</td>\n",
       "      <td>1</td>\n",
       "      <td>1</td>\n",
       "    </tr>\n",
       "    <tr>\n",
       "      <th>907</th>\n",
       "      <td>52</td>\n",
       "      <td>1</td>\n",
       "      <td>6</td>\n",
       "      <td>1</td>\n",
       "      <td>19</td>\n",
       "      <td>2</td>\n",
       "      <td>?</td>\n",
       "      <td>?</td>\n",
       "      <td>7</td>\n",
       "      <td>0</td>\n",
       "      <td>...</td>\n",
       "      <td>1</td>\n",
       "      <td>1</td>\n",
       "      <td>1</td>\n",
       "      <td>1</td>\n",
       "      <td>1</td>\n",
       "      <td>2</td>\n",
       "      <td>2</td>\n",
       "      <td>3</td>\n",
       "      <td>1</td>\n",
       "      <td>1</td>\n",
       "    </tr>\n",
       "    <tr>\n",
       "      <th>908</th>\n",
       "      <td>43</td>\n",
       "      <td>0</td>\n",
       "      <td>5</td>\n",
       "      <td>1</td>\n",
       "      <td>21</td>\n",
       "      <td>2</td>\n",
       "      <td>?</td>\n",
       "      <td>?</td>\n",
       "      <td>2</td>\n",
       "      <td>0</td>\n",
       "      <td>...</td>\n",
       "      <td>2</td>\n",
       "      <td>2</td>\n",
       "      <td>2</td>\n",
       "      <td>2</td>\n",
       "      <td>2</td>\n",
       "      <td>?</td>\n",
       "      <td>?</td>\n",
       "      <td>?</td>\n",
       "      <td>?</td>\n",
       "      <td>?</td>\n",
       "    </tr>\n",
       "    <tr>\n",
       "      <th>909</th>\n",
       "      <td>53</td>\n",
       "      <td>0</td>\n",
       "      <td>6</td>\n",
       "      <td>0</td>\n",
       "      <td>25</td>\n",
       "      <td>2</td>\n",
       "      <td>?</td>\n",
       "      <td>?</td>\n",
       "      <td>6</td>\n",
       "      <td>0</td>\n",
       "      <td>...</td>\n",
       "      <td>4</td>\n",
       "      <td>4</td>\n",
       "      <td>3</td>\n",
       "      <td>3</td>\n",
       "      <td>4</td>\n",
       "      <td>4</td>\n",
       "      <td>4</td>\n",
       "      <td>4</td>\n",
       "      <td>1</td>\n",
       "      <td>1</td>\n",
       "    </tr>\n",
       "    <tr>\n",
       "      <th>910</th>\n",
       "      <td>39</td>\n",
       "      <td>0</td>\n",
       "      <td>5</td>\n",
       "      <td>1</td>\n",
       "      <td>9</td>\n",
       "      <td>2</td>\n",
       "      <td>?</td>\n",
       "      <td>?</td>\n",
       "      <td>4</td>\n",
       "      <td>0</td>\n",
       "      <td>...</td>\n",
       "      <td>2</td>\n",
       "      <td>5</td>\n",
       "      <td>4</td>\n",
       "      <td>3</td>\n",
       "      <td>?</td>\n",
       "      <td>5</td>\n",
       "      <td>5</td>\n",
       "      <td>5</td>\n",
       "      <td>4</td>\n",
       "      <td>1</td>\n",
       "    </tr>\n",
       "    <tr>\n",
       "      <th>911</th>\n",
       "      <td>40</td>\n",
       "      <td>0</td>\n",
       "      <td>3</td>\n",
       "      <td>1</td>\n",
       "      <td>10</td>\n",
       "      <td>2</td>\n",
       "      <td>?</td>\n",
       "      <td>?</td>\n",
       "      <td>2</td>\n",
       "      <td>0</td>\n",
       "      <td>...</td>\n",
       "      <td>5</td>\n",
       "      <td>1</td>\n",
       "      <td>5</td>\n",
       "      <td>2</td>\n",
       "      <td>2</td>\n",
       "      <td>4</td>\n",
       "      <td>4</td>\n",
       "      <td>2</td>\n",
       "      <td>1</td>\n",
       "      <td>1</td>\n",
       "    </tr>\n",
       "    <tr>\n",
       "      <th>912</th>\n",
       "      <td>41</td>\n",
       "      <td>1</td>\n",
       "      <td>3</td>\n",
       "      <td>1</td>\n",
       "      <td>12</td>\n",
       "      <td>2</td>\n",
       "      <td>?</td>\n",
       "      <td>?</td>\n",
       "      <td>2</td>\n",
       "      <td>0</td>\n",
       "      <td>...</td>\n",
       "      <td>3</td>\n",
       "      <td>3</td>\n",
       "      <td>?</td>\n",
       "      <td>3</td>\n",
       "      <td>3</td>\n",
       "      <td>2</td>\n",
       "      <td>3</td>\n",
       "      <td>3</td>\n",
       "      <td>1</td>\n",
       "      <td>1</td>\n",
       "    </tr>\n",
       "  </tbody>\n",
       "</table>\n",
       "<p>10 rows × 53 columns</p>\n",
       "</div>"
      ],
      "text/plain": [
       "     AGE  GENDER DOMAIN  PhD YEARSEXP  UNIVERSITY UOC_POSITION OTHER_POSITION   \n",
       "903   45       0      6    0       18           2            ?              ?  \\\n",
       "904   34       1      1    1        6           2            ?              ?   \n",
       "905   48       0      6    1       21           2            ?              ?   \n",
       "906   50       0      6    1        1           2            ?              ?   \n",
       "907   52       1      6    1       19           2            ?              ?   \n",
       "908   43       0      5    1       21           2            ?              ?   \n",
       "909   53       0      6    0       25           2            ?              ?   \n",
       "910   39       0      5    1        9           2            ?              ?   \n",
       "911   40       0      3    1       10           2            ?              ?   \n",
       "912   41       1      3    1       12           2            ?              ?   \n",
       "\n",
       "    OTHERSTATUS USERWIKI  ... BI2 Inc1 Inc2 Inc3 Inc4 Exp1 Exp2 Exp3 Exp4 Exp5  \n",
       "903           7        1  ...   5    5    5    4    4    5    5    5    3    4  \n",
       "904           7        0  ...   2    4    3    4    4    5    5    5    1    2  \n",
       "905           2        0  ...   1    3    4    3    5    4    5    4    1    1  \n",
       "906           7        0  ...   ?    ?    ?    ?    ?    1    1    2    1    1  \n",
       "907           7        0  ...   1    1    1    1    1    2    2    3    1    1  \n",
       "908           2        0  ...   2    2    2    2    2    ?    ?    ?    ?    ?  \n",
       "909           6        0  ...   4    4    3    3    4    4    4    4    1    1  \n",
       "910           4        0  ...   2    5    4    3    ?    5    5    5    4    1  \n",
       "911           2        0  ...   5    1    5    2    2    4    4    2    1    1  \n",
       "912           2        0  ...   3    3    ?    3    3    2    3    3    1    1  \n",
       "\n",
       "[10 rows x 53 columns]"
      ]
     },
     "execution_count": 251,
     "metadata": {},
     "output_type": "execute_result"
    }
   ],
   "source": [
    "data.tail(10)"
   ]
  },
  {
   "cell_type": "code",
   "execution_count": 334,
   "id": "db95c4c1",
   "metadata": {},
   "outputs": [
    {
     "data": {
      "text/plain": [
       "(913, 53)"
      ]
     },
     "execution_count": 334,
     "metadata": {},
     "output_type": "execute_result"
    }
   ],
   "source": [
    "data.shape"
   ]
  },
  {
   "cell_type": "code",
   "execution_count": 335,
   "id": "3b34828b",
   "metadata": {},
   "outputs": [
    {
     "data": {
      "text/plain": [
       "Index(['AGE', 'GENDER', 'DOMAIN', 'PhD', 'YEARSEXP', 'UNIVERSITY',\n",
       "       'UOC_POSITION', 'OTHER_POSITION', 'OTHERSTATUS', 'USERWIKI', 'PU1',\n",
       "       'PU2', 'PU3', 'PEU1', 'PEU2', 'PEU3', 'ENJ1', 'ENJ2', 'Qu1', 'Qu2',\n",
       "       'Qu3', 'Qu4', 'Qu5', 'Vis1', 'Vis2', 'Vis3', 'Im1', 'Im2', 'Im3', 'SA1',\n",
       "       'SA2', 'SA3', 'Use1', 'Use2', 'Use3', 'Use4', 'Use5', 'Pf1', 'Pf2',\n",
       "       'Pf3', 'JR1', 'JR2', 'BI1', 'BI2', 'Inc1', 'Inc2', 'Inc3', 'Inc4',\n",
       "       'Exp1', 'Exp2', 'Exp3', 'Exp4', 'Exp5'],\n",
       "      dtype='object')"
      ]
     },
     "execution_count": 335,
     "metadata": {},
     "output_type": "execute_result"
    }
   ],
   "source": [
    "data.columns"
   ]
  },
  {
   "cell_type": "code",
   "execution_count": 336,
   "id": "bb491c1c",
   "metadata": {
    "scrolled": true
   },
   "outputs": [
    {
     "name": "stdout",
     "output_type": "stream",
     "text": [
      "<class 'pandas.core.frame.DataFrame'>\n",
      "RangeIndex: 913 entries, 0 to 912\n",
      "Data columns (total 53 columns):\n",
      " #   Column          Non-Null Count  Dtype \n",
      "---  ------          --------------  ----- \n",
      " 0   AGE             913 non-null    int64 \n",
      " 1   GENDER          913 non-null    int64 \n",
      " 2   DOMAIN          913 non-null    object\n",
      " 3   PhD             913 non-null    int64 \n",
      " 4   YEARSEXP        913 non-null    object\n",
      " 5   UNIVERSITY      913 non-null    int64 \n",
      " 6   UOC_POSITION    913 non-null    object\n",
      " 7   OTHER_POSITION  913 non-null    object\n",
      " 8   OTHERSTATUS     913 non-null    object\n",
      " 9   USERWIKI        913 non-null    object\n",
      " 10  PU1             913 non-null    object\n",
      " 11  PU2             913 non-null    object\n",
      " 12  PU3             913 non-null    object\n",
      " 13  PEU1            913 non-null    object\n",
      " 14  PEU2            913 non-null    object\n",
      " 15  PEU3            913 non-null    object\n",
      " 16  ENJ1            913 non-null    object\n",
      " 17  ENJ2            913 non-null    object\n",
      " 18  Qu1             913 non-null    object\n",
      " 19  Qu2             913 non-null    object\n",
      " 20  Qu3             913 non-null    object\n",
      " 21  Qu4             913 non-null    object\n",
      " 22  Qu5             913 non-null    object\n",
      " 23  Vis1            913 non-null    object\n",
      " 24  Vis2            913 non-null    object\n",
      " 25  Vis3            913 non-null    object\n",
      " 26  Im1             913 non-null    object\n",
      " 27  Im2             913 non-null    object\n",
      " 28  Im3             913 non-null    object\n",
      " 29  SA1             913 non-null    object\n",
      " 30  SA2             913 non-null    object\n",
      " 31  SA3             913 non-null    object\n",
      " 32  Use1            913 non-null    object\n",
      " 33  Use2            913 non-null    object\n",
      " 34  Use3            913 non-null    object\n",
      " 35  Use4            913 non-null    object\n",
      " 36  Use5            913 non-null    object\n",
      " 37  Pf1             913 non-null    object\n",
      " 38  Pf2             913 non-null    object\n",
      " 39  Pf3             913 non-null    object\n",
      " 40  JR1             913 non-null    object\n",
      " 41  JR2             913 non-null    object\n",
      " 42  BI1             913 non-null    object\n",
      " 43  BI2             913 non-null    object\n",
      " 44  Inc1            913 non-null    object\n",
      " 45  Inc2            913 non-null    object\n",
      " 46  Inc3            913 non-null    object\n",
      " 47  Inc4            913 non-null    object\n",
      " 48  Exp1            913 non-null    object\n",
      " 49  Exp2            913 non-null    object\n",
      " 50  Exp3            913 non-null    object\n",
      " 51  Exp4            913 non-null    object\n",
      " 52  Exp5            913 non-null    object\n",
      "dtypes: int64(4), object(49)\n",
      "memory usage: 378.2+ KB\n"
     ]
    }
   ],
   "source": [
    "data.info()"
   ]
  },
  {
   "cell_type": "code",
   "execution_count": 337,
   "id": "af8a29a8",
   "metadata": {},
   "outputs": [
    {
     "name": "stdout",
     "output_type": "stream",
     "text": [
      "AGE\n",
      "43    49\n",
      "46    44\n",
      "42    44\n",
      "39    44\n",
      "45    43\n",
      "33    43\n",
      "38    42\n",
      "41    41\n",
      "35    38\n",
      "44    38\n",
      "40    38\n",
      "48    35\n",
      "36    35\n",
      "47    32\n",
      "49    32\n",
      "37    31\n",
      "34    30\n",
      "50    28\n",
      "31    23\n",
      "52    22\n",
      "32    21\n",
      "51    18\n",
      "53    16\n",
      "29    13\n",
      "56    11\n",
      "54    11\n",
      "28    11\n",
      "55    10\n",
      "30     9\n",
      "58     8\n",
      "59     7\n",
      "62     7\n",
      "60     6\n",
      "57     5\n",
      "26     5\n",
      "63     4\n",
      "27     4\n",
      "24     3\n",
      "65     2\n",
      "25     2\n",
      "23     2\n",
      "61     2\n",
      "67     1\n",
      "64     1\n",
      "69     1\n",
      "68     1\n",
      "Name: count, dtype: int64\n",
      "GENDER\n",
      "0    525\n",
      "1    388\n",
      "Name: count, dtype: int64\n",
      "DOMAIN\n",
      "6    361\n",
      "1    183\n",
      "4    137\n",
      "5    101\n",
      "3     73\n",
      "2     56\n",
      "?      2\n",
      "Name: count, dtype: int64\n",
      "PhD\n",
      "0    489\n",
      "1    424\n",
      "Name: count, dtype: int64\n",
      "YEARSEXP\n",
      "10    77\n",
      "3     65\n",
      "15    62\n",
      "5     61\n",
      "4     59\n",
      "20    56\n",
      "12    53\n",
      "7     47\n",
      "1     43\n",
      "6     42\n",
      "8     42\n",
      "2     39\n",
      "18    25\n",
      "14    24\n",
      "?     23\n",
      "25    22\n",
      "9     21\n",
      "11    21\n",
      "16    19\n",
      "13    19\n",
      "17    17\n",
      "22    13\n",
      "23    11\n",
      "19    10\n",
      "30     8\n",
      "21     7\n",
      "24     5\n",
      "35     3\n",
      "27     3\n",
      "26     3\n",
      "0      3\n",
      "37     3\n",
      "36     2\n",
      "28     2\n",
      "43     1\n",
      "31     1\n",
      "39     1\n",
      "Name: count, dtype: int64\n",
      "UNIVERSITY\n",
      "1    800\n",
      "2    113\n",
      "Name: count, dtype: int64\n",
      "UOC_POSITION\n",
      "6    659\n",
      "?    113\n",
      "2     68\n",
      "3     50\n",
      "4     18\n",
      "1      3\n",
      "5      2\n",
      "Name: count, dtype: int64\n",
      "OTHER_POSITION\n",
      "2    384\n",
      "1    268\n",
      "?    261\n",
      "Name: count, dtype: int64\n",
      "OTHERSTATUS\n",
      "?    540\n",
      "2    130\n",
      "7    107\n",
      "6     41\n",
      "4     36\n",
      "3     24\n",
      "1     19\n",
      "5     16\n",
      "Name: count, dtype: int64\n",
      "USERWIKI\n",
      "0    784\n",
      "1    125\n",
      "?      4\n",
      "Name: count, dtype: int64\n",
      "PU1\n",
      "3    330\n",
      "4    239\n",
      "2    216\n",
      "5     86\n",
      "1     35\n",
      "?      7\n",
      "Name: count, dtype: int64\n",
      "PU2\n",
      "3    339\n",
      "4    244\n",
      "2    205\n",
      "5     81\n",
      "1     33\n",
      "?     11\n",
      "Name: count, dtype: int64\n",
      "PU3\n",
      "3    312\n",
      "4    250\n",
      "5    175\n",
      "2    151\n",
      "1     20\n",
      "?      5\n",
      "Name: count, dtype: int64\n",
      "PEU1\n",
      "5    466\n",
      "4    328\n",
      "3     91\n",
      "2     21\n",
      "?      4\n",
      "1      3\n",
      "Name: count, dtype: int64\n",
      "PEU2\n",
      "4    409\n",
      "5    286\n",
      "3    166\n",
      "2     35\n",
      "?     14\n",
      "1      3\n",
      "Name: count, dtype: int64\n",
      "PEU3\n",
      "3    355\n",
      "4    250\n",
      "5     97\n",
      "?     97\n",
      "2     97\n",
      "1     17\n",
      "Name: count, dtype: int64\n",
      "ENJ1\n",
      "4    386\n",
      "5    222\n",
      "3    207\n",
      "2     72\n",
      "1     19\n",
      "?      7\n",
      "Name: count, dtype: int64\n",
      "ENJ2\n",
      "4    394\n",
      "3    224\n",
      "5    208\n",
      "2     66\n",
      "?     17\n",
      "1      4\n",
      "Name: count, dtype: int64\n",
      "Qu1\n",
      "3    371\n",
      "4    308\n",
      "2    163\n",
      "5     40\n",
      "1     24\n",
      "?      7\n",
      "Name: count, dtype: int64\n",
      "Qu2\n",
      "4    357\n",
      "3    341\n",
      "2    114\n",
      "5     80\n",
      "1     11\n",
      "?     10\n",
      "Name: count, dtype: int64\n",
      "Qu3\n",
      "3    389\n",
      "2    236\n",
      "4    215\n",
      "5     30\n",
      "1     28\n",
      "?     15\n",
      "Name: count, dtype: int64\n",
      "Qu4\n",
      "3    298\n",
      "4    230\n",
      "2    196\n",
      "5    128\n",
      "1     39\n",
      "?     22\n",
      "Name: count, dtype: int64\n",
      "Qu5\n",
      "3    366\n",
      "4    234\n",
      "2    183\n",
      "1     54\n",
      "5     47\n",
      "?     29\n",
      "Name: count, dtype: int64\n",
      "Vis1\n",
      "3    396\n",
      "2    190\n",
      "4    170\n",
      "?     72\n",
      "1     49\n",
      "5     36\n",
      "Name: count, dtype: int64\n",
      "Vis2\n",
      "3    422\n",
      "4    158\n",
      "2    145\n",
      "?    117\n",
      "5     46\n",
      "1     25\n",
      "Name: count, dtype: int64\n",
      "Vis3\n",
      "1    406\n",
      "2    222\n",
      "3    161\n",
      "4     79\n",
      "5     37\n",
      "?      8\n",
      "Name: count, dtype: int64\n",
      "Im1\n",
      "2    335\n",
      "3    294\n",
      "1    139\n",
      "4     98\n",
      "5     25\n",
      "?     22\n",
      "Name: count, dtype: int64\n",
      "Im2\n",
      "4    298\n",
      "3    273\n",
      "2    181\n",
      "5    107\n",
      "1     34\n",
      "?     20\n",
      "Name: count, dtype: int64\n",
      "Im3\n",
      "3    342\n",
      "2    218\n",
      "4    178\n",
      "1     73\n",
      "?     57\n",
      "5     45\n",
      "Name: count, dtype: int64\n",
      "SA1\n",
      "5    381\n",
      "4    348\n",
      "3    142\n",
      "2     26\n",
      "?     11\n",
      "1      5\n",
      "Name: count, dtype: int64\n",
      "SA2\n",
      "5    396\n",
      "4    302\n",
      "3    140\n",
      "2     50\n",
      "1     13\n",
      "?     12\n",
      "Name: count, dtype: int64\n",
      "SA3\n",
      "5    496\n",
      "4    285\n",
      "3     96\n",
      "2     21\n",
      "?     11\n",
      "1      4\n",
      "Name: count, dtype: int64\n",
      "Use1\n",
      "1    329\n",
      "2    272\n",
      "3    191\n",
      "4     79\n",
      "5     28\n",
      "?     14\n",
      "Name: count, dtype: int64\n",
      "Use2\n",
      "1    471\n",
      "2    207\n",
      "3    137\n",
      "4     60\n",
      "5     21\n",
      "?     17\n",
      "Name: count, dtype: int64\n",
      "Use3\n",
      "3    238\n",
      "2    226\n",
      "1    194\n",
      "4    184\n",
      "5     62\n",
      "?      9\n",
      "Name: count, dtype: int64\n",
      "Use4\n",
      "3    237\n",
      "2    232\n",
      "1    212\n",
      "4    159\n",
      "5     50\n",
      "?     23\n",
      "Name: count, dtype: int64\n",
      "Use5\n",
      "4    290\n",
      "3    278\n",
      "2    152\n",
      "5    123\n",
      "1     55\n",
      "?     15\n",
      "Name: count, dtype: int64\n",
      "Pf1\n",
      "1    340\n",
      "2    218\n",
      "3    169\n",
      "4    107\n",
      "5     68\n",
      "?     11\n",
      "Name: count, dtype: int64\n",
      "Pf2\n",
      "2    223\n",
      "3    215\n",
      "4    173\n",
      "1    167\n",
      "5    129\n",
      "?      6\n",
      "Name: count, dtype: int64\n",
      "Pf3\n",
      "1    257\n",
      "3    212\n",
      "2    199\n",
      "4    153\n",
      "5     78\n",
      "?     14\n",
      "Name: count, dtype: int64\n",
      "JR1\n",
      "4    325\n",
      "5    228\n",
      "3    203\n",
      "2     98\n",
      "1     32\n",
      "?     27\n",
      "Name: count, dtype: int64\n",
      "JR2\n",
      "3    277\n",
      "4    215\n",
      "2    146\n",
      "5    117\n",
      "1    105\n",
      "?     53\n",
      "Name: count, dtype: int64\n",
      "BI1\n",
      "3    344\n",
      "2    206\n",
      "4    178\n",
      "1     80\n",
      "5     73\n",
      "?     32\n",
      "Name: count, dtype: int64\n",
      "BI2\n",
      "3    298\n",
      "2    207\n",
      "4    196\n",
      "5     85\n",
      "1     84\n",
      "?     43\n",
      "Name: count, dtype: int64\n",
      "Inc1\n",
      "4    309\n",
      "5    251\n",
      "3    209\n",
      "2     62\n",
      "1     47\n",
      "?     35\n",
      "Name: count, dtype: int64\n",
      "Inc2\n",
      "4    272\n",
      "3    260\n",
      "5    178\n",
      "2    113\n",
      "1     55\n",
      "?     35\n",
      "Name: count, dtype: int64\n",
      "Inc3\n",
      "3    257\n",
      "4    250\n",
      "5    187\n",
      "2    127\n",
      "1     55\n",
      "?     37\n",
      "Name: count, dtype: int64\n",
      "Inc4\n",
      "3    249\n",
      "4    243\n",
      "5    210\n",
      "2    102\n",
      "1     67\n",
      "?     42\n",
      "Name: count, dtype: int64\n",
      "Exp1\n",
      "4    249\n",
      "2    232\n",
      "3    223\n",
      "1    102\n",
      "5     94\n",
      "?     13\n",
      "Name: count, dtype: int64\n",
      "Exp2\n",
      "4    327\n",
      "3    222\n",
      "5    172\n",
      "2    135\n",
      "1     46\n",
      "?     11\n",
      "Name: count, dtype: int64\n",
      "Exp3\n",
      "4    340\n",
      "5    223\n",
      "3    174\n",
      "2    126\n",
      "1     37\n",
      "?     13\n",
      "Name: count, dtype: int64\n",
      "Exp4\n",
      "1    580\n",
      "2    176\n",
      "3     91\n",
      "4     37\n",
      "5     15\n",
      "?     14\n",
      "Name: count, dtype: int64\n",
      "Exp5\n",
      "1    292\n",
      "2    210\n",
      "4    158\n",
      "3    153\n",
      "5     87\n",
      "?     13\n",
      "Name: count, dtype: int64\n"
     ]
    }
   ],
   "source": [
    "for i in data.columns : \n",
    "    print(data[i].value_counts())"
   ]
  },
  {
   "cell_type": "markdown",
   "id": "1514881b",
   "metadata": {},
   "source": [
    "    We notice the presence of several missing data which are introduced into the dataset So we will replace these values \n",
    "    with null."
   ]
  },
  {
   "cell_type": "code",
   "execution_count": 338,
   "id": "c7676447",
   "metadata": {},
   "outputs": [],
   "source": [
    "data[data == '?'] = np.nan"
   ]
  },
  {
   "cell_type": "code",
   "execution_count": 339,
   "id": "2354f25e",
   "metadata": {
    "scrolled": true
   },
   "outputs": [
    {
     "data": {
      "text/plain": [
       "AGE                 0\n",
       "GENDER              0\n",
       "DOMAIN              2\n",
       "PhD                 0\n",
       "YEARSEXP           23\n",
       "UNIVERSITY          0\n",
       "UOC_POSITION      113\n",
       "OTHER_POSITION    261\n",
       "OTHERSTATUS       540\n",
       "USERWIKI            4\n",
       "PU1                 7\n",
       "PU2                11\n",
       "PU3                 5\n",
       "PEU1                4\n",
       "PEU2               14\n",
       "PEU3               97\n",
       "ENJ1                7\n",
       "ENJ2               17\n",
       "Qu1                 7\n",
       "Qu2                10\n",
       "Qu3                15\n",
       "Qu4                22\n",
       "Qu5                29\n",
       "Vis1               72\n",
       "Vis2              117\n",
       "Vis3                8\n",
       "Im1                22\n",
       "Im2                20\n",
       "Im3                57\n",
       "SA1                11\n",
       "SA2                12\n",
       "SA3                11\n",
       "Use1               14\n",
       "Use2               17\n",
       "Use3                9\n",
       "Use4               23\n",
       "Use5               15\n",
       "Pf1                11\n",
       "Pf2                 6\n",
       "Pf3                14\n",
       "JR1                27\n",
       "JR2                53\n",
       "BI1                32\n",
       "BI2                43\n",
       "Inc1               35\n",
       "Inc2               35\n",
       "Inc3               37\n",
       "Inc4               42\n",
       "Exp1               13\n",
       "Exp2               11\n",
       "Exp3               13\n",
       "Exp4               14\n",
       "Exp5               13\n",
       "dtype: int64"
      ]
     },
     "execution_count": 339,
     "metadata": {},
     "output_type": "execute_result"
    }
   ],
   "source": [
    "data.isnull().sum()\n"
   ]
  },
  {
   "cell_type": "markdown",
   "id": "9514c7c6",
   "metadata": {},
   "source": [
    "    We also notice that all but a few categorical type columns are of numeric types. So, we will convert the type of columns\n",
    "    which are of numeric type and do not have a numeric indication like the AGE column in type object."
   ]
  },
  {
   "cell_type": "code",
   "execution_count": 340,
   "id": "61794edc",
   "metadata": {},
   "outputs": [],
   "source": [
    "data['PhD'] = data['PhD'].astype(object)\n",
    "data['GENDER'] = data['GENDER'].astype(object)\n",
    "data['UNIVERSITY'] = data['UNIVERSITY'].astype(object)"
   ]
  },
  {
   "cell_type": "markdown",
   "id": "408e260b",
   "metadata": {},
   "source": [
    "    We will also convert the YEARSEXP & EXP columns and make them numeric since it represents the numerical value of the \n",
    "    duration of the experience."
   ]
  },
  {
   "cell_type": "code",
   "execution_count": 341,
   "id": "e0406d7e",
   "metadata": {},
   "outputs": [],
   "source": [
    "data['YEARSEXP']=data['YEARSEXP'].apply(pd.to_numeric)\n",
    "data['Exp1']=data['Exp1'].apply(pd.to_numeric)\n",
    "data['Exp2']=data['Exp2'].apply(pd.to_numeric)\n",
    "data['Exp3']=data['Exp3'].apply(pd.to_numeric)\n",
    "data['Exp4']=data['Exp4'].apply(pd.to_numeric)\n",
    "data['Exp5']=data['Exp5'].apply(pd.to_numeric)"
   ]
  },
  {
   "cell_type": "code",
   "execution_count": 342,
   "id": "b3e9744c",
   "metadata": {
    "scrolled": true
   },
   "outputs": [
    {
     "name": "stdout",
     "output_type": "stream",
     "text": [
      "<class 'pandas.core.frame.DataFrame'>\n",
      "RangeIndex: 913 entries, 0 to 912\n",
      "Data columns (total 53 columns):\n",
      " #   Column          Non-Null Count  Dtype  \n",
      "---  ------          --------------  -----  \n",
      " 0   AGE             913 non-null    int64  \n",
      " 1   GENDER          913 non-null    object \n",
      " 2   DOMAIN          911 non-null    object \n",
      " 3   PhD             913 non-null    object \n",
      " 4   YEARSEXP        890 non-null    float64\n",
      " 5   UNIVERSITY      913 non-null    object \n",
      " 6   UOC_POSITION    800 non-null    object \n",
      " 7   OTHER_POSITION  652 non-null    object \n",
      " 8   OTHERSTATUS     373 non-null    object \n",
      " 9   USERWIKI        909 non-null    object \n",
      " 10  PU1             906 non-null    object \n",
      " 11  PU2             902 non-null    object \n",
      " 12  PU3             908 non-null    object \n",
      " 13  PEU1            909 non-null    object \n",
      " 14  PEU2            899 non-null    object \n",
      " 15  PEU3            816 non-null    object \n",
      " 16  ENJ1            906 non-null    object \n",
      " 17  ENJ2            896 non-null    object \n",
      " 18  Qu1             906 non-null    object \n",
      " 19  Qu2             903 non-null    object \n",
      " 20  Qu3             898 non-null    object \n",
      " 21  Qu4             891 non-null    object \n",
      " 22  Qu5             884 non-null    object \n",
      " 23  Vis1            841 non-null    object \n",
      " 24  Vis2            796 non-null    object \n",
      " 25  Vis3            905 non-null    object \n",
      " 26  Im1             891 non-null    object \n",
      " 27  Im2             893 non-null    object \n",
      " 28  Im3             856 non-null    object \n",
      " 29  SA1             902 non-null    object \n",
      " 30  SA2             901 non-null    object \n",
      " 31  SA3             902 non-null    object \n",
      " 32  Use1            899 non-null    object \n",
      " 33  Use2            896 non-null    object \n",
      " 34  Use3            904 non-null    object \n",
      " 35  Use4            890 non-null    object \n",
      " 36  Use5            898 non-null    object \n",
      " 37  Pf1             902 non-null    object \n",
      " 38  Pf2             907 non-null    object \n",
      " 39  Pf3             899 non-null    object \n",
      " 40  JR1             886 non-null    object \n",
      " 41  JR2             860 non-null    object \n",
      " 42  BI1             881 non-null    object \n",
      " 43  BI2             870 non-null    object \n",
      " 44  Inc1            878 non-null    object \n",
      " 45  Inc2            878 non-null    object \n",
      " 46  Inc3            876 non-null    object \n",
      " 47  Inc4            871 non-null    object \n",
      " 48  Exp1            900 non-null    float64\n",
      " 49  Exp2            902 non-null    float64\n",
      " 50  Exp3            900 non-null    float64\n",
      " 51  Exp4            899 non-null    float64\n",
      " 52  Exp5            900 non-null    float64\n",
      "dtypes: float64(6), int64(1), object(46)\n",
      "memory usage: 378.2+ KB\n"
     ]
    }
   ],
   "source": [
    "data.info()"
   ]
  },
  {
   "cell_type": "markdown",
   "id": "6592e16b",
   "metadata": {},
   "source": [
    "## 3/ Data visualization"
   ]
  },
  {
   "cell_type": "markdown",
   "id": "6165a67b",
   "metadata": {},
   "source": [
    "### Representation of digital data workforce"
   ]
  },
  {
   "cell_type": "code",
   "execution_count": 343,
   "id": "cbb32d82",
   "metadata": {},
   "outputs": [
    {
     "data": {
      "image/png": "[encoded data removed]",
      "text/plain": [
       "<Figure size 432x288 with 1 Axes>"
      ]
     },
     "metadata": {
      "needs_background": "light"
     },
     "output_type": "display_data"
    },
    {
     "data": {
      "image/png": "[encoded data removed]",
      "text/plain": [
       "<Figure size 432x288 with 1 Axes>"
      ]
     },
     "metadata": {
      "needs_background": "light"
     },
     "output_type": "display_data"
    },
    {
     "data": {
      "image/png": "[encoded data removed]",
      "text/plain": [
       "<Figure size 432x288 with 1 Axes>"
      ]
     },
     "metadata": {
      "needs_background": "light"
     },
     "output_type": "display_data"
    },
    {
     "data": {
      "image/png": "[encoded data removed]",
      "text/plain": [
       "<Figure size 432x288 with 1 Axes>"
      ]
     },
     "metadata": {
      "needs_background": "light"
     },
     "output_type": "display_data"
    },
    {
     "data": {
      "image/png": "[encoded data removed]",
      "text/plain": [
       "<Figure size 432x288 with 1 Axes>"
      ]
     },
     "metadata": {
      "needs_background": "light"
     },
     "output_type": "display_data"
    },
    {
     "data": {
      "image/png": "[encoded data removed]",
      "text/plain": [
       "<Figure size 432x288 with 1 Axes>"
      ]
     },
     "metadata": {
      "needs_background": "light"
     },
     "output_type": "display_data"
    },
    {
     "data": {
      "image/png": "[encoded data removed]",
      "text/plain": [
       "<Figure size 432x288 with 1 Axes>"
      ]
     },
     "metadata": {
      "needs_background": "light"
     },
     "output_type": "display_data"
    }
   ],
   "source": [
    "for i in data:\n",
    "    if not (data[i].dtypes== \"object\"):\n",
    "        sns.histplot(data.loc[:, i], bins=20)\n",
    "        plt.show()"
   ]
  },
  {
   "cell_type": "markdown",
   "id": "09d6533e",
   "metadata": {},
   "source": [
    "### Representation of the numbers of categorical data"
   ]
  },
  {
   "cell_type": "code",
   "execution_count": 344,
   "id": "b8aef631",
   "metadata": {
    "scrolled": true
   },
   "outputs": [
    {
     "data": {
      "image/png": "[encoded data removed]",
      "text/plain": [
       "<Figure size 720x576 with 1 Axes>"
      ]
     },
     "metadata": {
      "needs_background": "light"
     },
     "output_type": "display_data"
    },
    {
     "data": {
      "image/png": "[encoded data removed]",
      "text/plain": [
       "<Figure size 720x576 with 1 Axes>"
      ]
     },
     "metadata": {
      "needs_background": "light"
     },
     "output_type": "display_data"
    },
    {
     "data": {
      "image/png": "[encoded data removed]",
      "text/plain": [
       "<Figure size 720x576 with 1 Axes>"
      ]
     },
     "metadata": {
      "needs_background": "light"
     },
     "output_type": "display_data"
    },
    {
     "data": {
      "image/png": "[encoded data removed]",
      "text/plain": [
       "<Figure size 720x576 with 1 Axes>"
      ]
     },
     "metadata": {
      "needs_background": "light"
     },
     "output_type": "display_data"
    },
    {
     "data": {
      "image/png": "[encoded data removed]",
      "text/plain": [
       "<Figure size 720x576 with 1 Axes>"
      ]
     },
     "metadata": {
      "needs_background": "light"
     },
     "output_type": "display_data"
    },
    {
     "data": {
      "image/png": "[encoded data removed]",
      "text/plain": [
       "<Figure size 720x576 with 1 Axes>"
      ]
     },
     "metadata": {
      "needs_background": "light"
     },
     "output_type": "display_data"
    },
    {
     "data": {
      "image/png": "[encoded data removed]",
      "text/plain": [
       "<Figure size 720x576 with 1 Axes>"
      ]
     },
     "metadata": {
      "needs_background": "light"
     },
     "output_type": "display_data"
    },
    {
     "data": {
      "image/png": "[encoded data removed]",
      "text/plain": [
       "<Figure size 720x576 with 1 Axes>"
      ]
     },
     "metadata": {
      "needs_background": "light"
     },
     "output_type": "display_data"
    },
    {
     "data": {
      "image/png": "[encoded data removed]",
      "text/plain": [
       "<Figure size 720x576 with 1 Axes>"
      ]
     },
     "metadata": {
      "needs_background": "light"
     },
     "output_type": "display_data"
    },
    {
     "data": {
      "image/png": "[encoded data removed]",
      "text/plain": [
       "<Figure size 720x576 with 1 Axes>"
      ]
     },
     "metadata": {
      "needs_background": "light"
     },
     "output_type": "display_data"
    },
    {
     "data": {
      "image/png": "[encoded data removed]",
      "text/plain": [
       "<Figure size 720x576 with 1 Axes>"
      ]
     },
     "metadata": {
      "needs_background": "light"
     },
     "output_type": "display_data"
    },
    {
     "data": {
      "image/png": "[encoded data removed]",
      "text/plain": [
       "<Figure size 720x576 with 1 Axes>"
      ]
     },
     "metadata": {
      "needs_background": "light"
     },
     "output_type": "display_data"
    },
    {
     "data": {
      "image/png": "[encoded data removed]",
      "text/plain": [
       "<Figure size 720x576 with 1 Axes>"
      ]
     },
     "metadata": {
      "needs_background": "light"
     },
     "output_type": "display_data"
    },
    {
     "data": {
      "image/png": "[encoded data removed]",
      "text/plain": [
       "<Figure size 720x576 with 1 Axes>"
      ]
     },
     "metadata": {
      "needs_background": "light"
     },
     "output_type": "display_data"
    },
    {
     "data": {
      "image/png": "[encoded data removed]",
      "text/plain": [
       "<Figure size 720x576 with 1 Axes>"
      ]
     },
     "metadata": {
      "needs_background": "light"
     },
     "output_type": "display_data"
    },
    {
     "data": {
      "image/png": "[encoded data removed]",
      "text/plain": [
       "<Figure size 720x576 with 1 Axes>"
      ]
     },
     "metadata": {
      "needs_background": "light"
     },
     "output_type": "display_data"
    },
    {
     "data": {
      "image/png": "[encoded data removed]",
      "text/plain": [
       "<Figure size 720x576 with 1 Axes>"
      ]
     },
     "metadata": {
      "needs_background": "light"
     },
     "output_type": "display_data"
    },
    {
     "data": {
      "image/png": "[encoded data removed]",
      "text/plain": [
       "<Figure size 720x576 with 1 Axes>"
      ]
     },
     "metadata": {
      "needs_background": "light"
     },
     "output_type": "display_data"
    },
    {
     "data": {
      "image/png": "[encoded data removed]",
      "text/plain": [
       "<Figure size 720x576 with 1 Axes>"
      ]
     },
     "metadata": {
      "needs_background": "light"
     },
     "output_type": "display_data"
    },
    {
     "data": {
      "image/png": "[encoded data removed]",
      "text/plain": [
       "<Figure size 720x576 with 1 Axes>"
      ]
     },
     "metadata": {
      "needs_background": "light"
     },
     "output_type": "display_data"
    },
    {
     "data": {
      "image/png": "[encoded data removed]",
      "text/plain": [
       "<Figure size 720x576 with 1 Axes>"
      ]
     },
     "metadata": {
      "needs_background": "light"
     },
     "output_type": "display_data"
    },
    {
     "data": {
      "image/png": "[encoded data removed]",
      "text/plain": [
       "<Figure size 720x576 with 1 Axes>"
      ]
     },
     "metadata": {
      "needs_background": "light"
     },
     "output_type": "display_data"
    },
    {
     "data": {
      "image/png": "[encoded data removed]",
      "text/plain": [
       "<Figure size 720x576 with 1 Axes>"
      ]
     },
     "metadata": {
      "needs_background": "light"
     },
     "output_type": "display_data"
    },
    {
     "data": {
      "image/png": "[encoded data removed]",
      "text/plain": [
       "<Figure size 720x576 with 1 Axes>"
      ]
     },
     "metadata": {
      "needs_background": "light"
     },
     "output_type": "display_data"
    },
    {
     "data": {
      "image/png": "[encoded data removed]",
      "text/plain": [
       "<Figure size 720x576 with 1 Axes>"
      ]
     },
     "metadata": {
      "needs_background": "light"
     },
     "output_type": "display_data"
    },
    {
     "data": {
      "image/png": "[encoded data removed]",
      "text/plain": [
       "<Figure size 720x576 with 1 Axes>"
      ]
     },
     "metadata": {
      "needs_background": "light"
     },
     "output_type": "display_data"
    },
    {
     "data": {
      "image/png": "[encoded data removed]",
      "text/plain": [
       "<Figure size 720x576 with 1 Axes>"
      ]
     },
     "metadata": {
      "needs_background": "light"
     },
     "output_type": "display_data"
    },
    {
     "data": {
      "image/png": "[encoded data removed]",
      "text/plain": [
       "<Figure size 720x576 with 1 Axes>"
      ]
     },
     "metadata": {
      "needs_background": "light"
     },
     "output_type": "display_data"
    },
    {
     "data": {
      "image/png": "[encoded data removed]",
      "text/plain": [
       "<Figure size 720x576 with 1 Axes>"
      ]
     },
     "metadata": {
      "needs_background": "light"
     },
     "output_type": "display_data"
    },
    {
     "data": {
      "image/png": "[encoded data removed]",
      "text/plain": [
       "<Figure size 720x576 with 1 Axes>"
      ]
     },
     "metadata": {
      "needs_background": "light"
     },
     "output_type": "display_data"
    },
    {
     "data": {
      "image/png": "[encoded data removed]",
      "text/plain": [
       "<Figure size 720x576 with 1 Axes>"
      ]
     },
     "metadata": {
      "needs_background": "light"
     },
     "output_type": "display_data"
    },
    {
     "data": {
      "image/png": "[encoded data removed]",
      "text/plain": [
       "<Figure size 720x576 with 1 Axes>"
      ]
     },
     "metadata": {
      "needs_background": "light"
     },
     "output_type": "display_data"
    },
    {
     "data": {
      "image/png": "[encoded data removed]",
      "text/plain": [
       "<Figure size 720x576 with 1 Axes>"
      ]
     },
     "metadata": {
      "needs_background": "light"
     },
     "output_type": "display_data"
    },
    {
     "data": {
      "image/png": "[encoded data removed]",
      "text/plain": [
       "<Figure size 720x576 with 1 Axes>"
      ]
     },
     "metadata": {
      "needs_background": "light"
     },
     "output_type": "display_data"
    },
    {
     "data": {
      "image/png": "[encoded data removed]",
      "text/plain": [
       "<Figure size 720x576 with 1 Axes>"
      ]
     },
     "metadata": {
      "needs_background": "light"
     },
     "output_type": "display_data"
    },
    {
     "data": {
      "image/png": "[encoded data removed]",
      "text/plain": [
       "<Figure size 720x576 with 1 Axes>"
      ]
     },
     "metadata": {
      "needs_background": "light"
     },
     "output_type": "display_data"
    },
    {
     "data": {
      "image/png": "[encoded data removed]",
      "text/plain": [
       "<Figure size 720x576 with 1 Axes>"
      ]
     },
     "metadata": {
      "needs_background": "light"
     },
     "output_type": "display_data"
    },
    {
     "data": {
      "image/png": "[encoded data removed]",
      "text/plain": [
       "<Figure size 720x576 with 1 Axes>"
      ]
     },
     "metadata": {
      "needs_background": "light"
     },
     "output_type": "display_data"
    },
    {
     "data": {
      "image/png": "[encoded data removed]",
      "text/plain": [
       "<Figure size 720x576 with 1 Axes>"
      ]
     },
     "metadata": {
      "needs_background": "light"
     },
     "output_type": "display_data"
    },
    {
     "data": {
      "image/png": "[encoded data removed]",
      "text/plain": [
       "<Figure size 720x576 with 1 Axes>"
      ]
     },
     "metadata": {
      "needs_background": "light"
     },
     "output_type": "display_data"
    },
    {
     "data": {
      "image/png": "[encoded data removed]",
      "text/plain": [
       "<Figure size 720x576 with 1 Axes>"
      ]
     },
     "metadata": {
      "needs_background": "light"
     },
     "output_type": "display_data"
    },
    {
     "data": {
      "image/png": "[encoded data removed]",
      "text/plain": [
       "<Figure size 720x576 with 1 Axes>"
      ]
     },
     "metadata": {
      "needs_background": "light"
     },
     "output_type": "display_data"
    },
    {
     "data": {
      "image/png": "[encoded data removed]",
      "text/plain": [
       "<Figure size 720x576 with 1 Axes>"
      ]
     },
     "metadata": {
      "needs_background": "light"
     },
     "output_type": "display_data"
    },
    {
     "data": {
      "image/png": "[encoded data removed]",
      "text/plain": [
       "<Figure size 720x576 with 1 Axes>"
      ]
     },
     "metadata": {
      "needs_background": "light"
     },
     "output_type": "display_data"
    },
    {
     "data": {
      "image/png": "[encoded data removed]",
      "text/plain": [
       "<Figure size 720x576 with 1 Axes>"
      ]
     },
     "metadata": {
      "needs_background": "light"
     },
     "output_type": "display_data"
    },
    {
     "data": {
      "image/png": "[encoded data removed]",
      "text/plain": [
       "<Figure size 720x576 with 1 Axes>"
      ]
     },
     "metadata": {
      "needs_background": "light"
     },
     "output_type": "display_data"
    }
   ],
   "source": [
    "for i in data:\n",
    "    if (data[i].dtypes== 'object'):\n",
    "        plt.figure(figsize=(10,8))\n",
    "        sns.barplot(x=data[i].value_counts().index,y=data[i].value_counts().values)\n",
    "        plt.title(i)\n",
    "        plt.tight_layout()\n",
    "        plt.show()"
   ]
  },
  {
   "cell_type": "code",
   "execution_count": 357,
   "id": "5477995d",
   "metadata": {},
   "outputs": [
    {
     "data": {
      "image/png": "[encoded data removed]",
      "text/plain": [
       "<Figure size 864x432 with 1 Axes>"
      ]
     },
     "metadata": {
      "needs_background": "light"
     },
     "output_type": "display_data"
    }
   ],
   "source": [
    "df2 = data.groupby('GENDER')['PhD'].value_counts().unstack()\n",
    "df2.plot(kind='bar', figsize=(12, 6) )\n",
    "plt.title('Représentation des effectifs possédant des PhD par genre')\n",
    "plt.xlabel('GENDER')\n",
    "plt.ylabel('PhD')\n",
    "plt.xticks(rotation=0)\n",
    "plt.show()"
   ]
  },
  {
   "cell_type": "markdown",
   "id": "599f3703",
   "metadata": {},
   "source": [
    "## 4/ Data preprocessing: Data Cleaning:"
   ]
  },
  {
   "cell_type": "markdown",
   "id": "2c3dd952",
   "metadata": {},
   "source": [
    "### Deleting columns"
   ]
  },
  {
   "cell_type": "markdown",
   "id": "d3216dc6",
   "metadata": {},
   "source": [
    "    The \"OTHERSTATUS\" column has more than 50% of its data as missing data. This forces us to remove the column."
   ]
  },
  {
   "cell_type": "code",
   "execution_count": 346,
   "id": "51928de2",
   "metadata": {},
   "outputs": [],
   "source": [
    "data = data.drop(\"OTHERSTATUS\", axis=1)"
   ]
  },
  {
   "cell_type": "code",
   "execution_count": 347,
   "id": "b0c76347",
   "metadata": {},
   "outputs": [
    {
     "data": {
      "text/plain": [
       "(913, 52)"
      ]
     },
     "execution_count": 347,
     "metadata": {},
     "output_type": "execute_result"
    }
   ],
   "source": [
    "data.shape"
   ]
  },
  {
   "cell_type": "markdown",
   "id": "d0e2408d",
   "metadata": {},
   "source": [
    "### Replacing missing numeric values : \n"
   ]
  },
  {
   "cell_type": "markdown",
   "id": "97b72d02",
   "metadata": {},
   "source": [
    "#### Imputation by median"
   ]
  },
  {
   "cell_type": "code",
   "execution_count": 348,
   "id": "180f00f4",
   "metadata": {},
   "outputs": [],
   "source": [
    "numerical_columns= ['YEARSEXP','Exp1', 'Exp2', 'Exp3', 'Exp4', 'Exp5']"
   ]
  },
  {
   "cell_type": "code",
   "execution_count": 349,
   "id": "db586654",
   "metadata": {
    "scrolled": true
   },
   "outputs": [
    {
     "name": "stdout",
     "output_type": "stream",
     "text": [
      "YEARSEXP\n",
      "10.0    77\n",
      "3.0     65\n",
      "15.0    62\n",
      "5.0     61\n",
      "4.0     59\n",
      "20.0    56\n",
      "12.0    53\n",
      "7.0     47\n",
      "1.0     43\n",
      "6.0     42\n",
      "8.0     42\n",
      "2.0     39\n",
      "18.0    25\n",
      "14.0    24\n",
      "25.0    22\n",
      "9.0     21\n",
      "11.0    21\n",
      "16.0    19\n",
      "13.0    19\n",
      "17.0    17\n",
      "22.0    13\n",
      "23.0    11\n",
      "19.0    10\n",
      "30.0     8\n",
      "21.0     7\n",
      "24.0     5\n",
      "37.0     3\n",
      "0.0      3\n",
      "27.0     3\n",
      "26.0     3\n",
      "35.0     3\n",
      "28.0     2\n",
      "36.0     2\n",
      "43.0     1\n",
      "31.0     1\n",
      "39.0     1\n",
      "Name: count, dtype: int64\n",
      "Exp1\n",
      "4.0    249\n",
      "2.0    232\n",
      "3.0    223\n",
      "1.0    102\n",
      "5.0     94\n",
      "Name: count, dtype: int64\n",
      "Exp2\n",
      "4.0    327\n",
      "3.0    222\n",
      "5.0    172\n",
      "2.0    135\n",
      "1.0     46\n",
      "Name: count, dtype: int64\n",
      "Exp3\n",
      "4.0    340\n",
      "5.0    223\n",
      "3.0    174\n",
      "2.0    126\n",
      "1.0     37\n",
      "Name: count, dtype: int64\n",
      "Exp4\n",
      "1.0    580\n",
      "2.0    176\n",
      "3.0     91\n",
      "4.0     37\n",
      "5.0     15\n",
      "Name: count, dtype: int64\n",
      "Exp5\n",
      "1.0    292\n",
      "2.0    210\n",
      "4.0    158\n",
      "3.0    153\n",
      "5.0     87\n",
      "Name: count, dtype: int64\n"
     ]
    }
   ],
   "source": [
    "for i in numerical_columns:\n",
    "    print(data[i].value_counts())"
   ]
  },
  {
   "cell_type": "markdown",
   "id": "b65cb0ff",
   "metadata": {},
   "source": [
    "    Median imputation is often used when the missing values are numerical and diverse, which is our case."
   ]
  },
  {
   "cell_type": "code",
   "execution_count": 350,
   "id": "921fbf84",
   "metadata": {},
   "outputs": [
    {
     "name": "stdout",
     "output_type": "stream",
     "text": [
      "Le mediane de  YEARSEXP  est :  10.0\n",
      "Le mediane de  Exp1  est :  3.0\n",
      "Le mediane de  Exp2  est :  4.0\n",
      "Le mediane de  Exp3  est :  4.0\n",
      "Le mediane de  Exp4  est :  1.0\n",
      "Le mediane de  Exp5  est :  2.0\n"
     ]
    }
   ],
   "source": [
    "for i in numerical_columns :\n",
    "    mediane = data[i].median()\n",
    "    print(\"Le mediane de \",i,\" est : \",mediane)\n",
    "    data[i].fillna(value=mediane, inplace = True)"
   ]
  },
  {
   "cell_type": "code",
   "execution_count": 351,
   "id": "dd7ddfc9",
   "metadata": {},
   "outputs": [
    {
     "data": {
      "text/plain": [
       "YEARSEXP    0\n",
       "Exp1        0\n",
       "Exp2        0\n",
       "Exp3        0\n",
       "Exp4        0\n",
       "Exp5        0\n",
       "dtype: int64"
      ]
     },
     "execution_count": 351,
     "metadata": {},
     "output_type": "execute_result"
    }
   ],
   "source": [
    "data[numerical_columns].isnull().sum()\n"
   ]
  },
  {
   "cell_type": "code",
   "execution_count": 352,
   "id": "cff84827",
   "metadata": {
    "scrolled": true
   },
   "outputs": [
    {
     "data": {
      "text/plain": [
       "AGE                 0\n",
       "GENDER              0\n",
       "DOMAIN              2\n",
       "PhD                 0\n",
       "YEARSEXP            0\n",
       "UNIVERSITY          0\n",
       "UOC_POSITION      113\n",
       "OTHER_POSITION    261\n",
       "USERWIKI            4\n",
       "PU1                 7\n",
       "PU2                11\n",
       "PU3                 5\n",
       "PEU1                4\n",
       "PEU2               14\n",
       "PEU3               97\n",
       "ENJ1                7\n",
       "ENJ2               17\n",
       "Qu1                 7\n",
       "Qu2                10\n",
       "Qu3                15\n",
       "Qu4                22\n",
       "Qu5                29\n",
       "Vis1               72\n",
       "Vis2              117\n",
       "Vis3                8\n",
       "Im1                22\n",
       "Im2                20\n",
       "Im3                57\n",
       "SA1                11\n",
       "SA2                12\n",
       "SA3                11\n",
       "Use1               14\n",
       "Use2               17\n",
       "Use3                9\n",
       "Use4               23\n",
       "Use5               15\n",
       "Pf1                11\n",
       "Pf2                 6\n",
       "Pf3                14\n",
       "JR1                27\n",
       "JR2                53\n",
       "BI1                32\n",
       "BI2                43\n",
       "Inc1               35\n",
       "Inc2               35\n",
       "Inc3               37\n",
       "Inc4               42\n",
       "Exp1                0\n",
       "Exp2                0\n",
       "Exp3                0\n",
       "Exp4                0\n",
       "Exp5                0\n",
       "dtype: int64"
      ]
     },
     "execution_count": 352,
     "metadata": {},
     "output_type": "execute_result"
    }
   ],
   "source": [
    "data.isnull().sum()"
   ]
  },
  {
   "cell_type": "markdown",
   "id": "6d24590e",
   "metadata": {},
   "source": [
    "### Replacing missing categorical values:"
   ]
  },
  {
   "cell_type": "markdown",
   "id": "2403840c",
   "metadata": {},
   "source": [
    "#### Imputation by mode :"
   ]
  },
  {
   "cell_type": "code",
   "execution_count": 353,
   "id": "300bedce",
   "metadata": {
    "scrolled": true
   },
   "outputs": [
    {
     "name": "stdout",
     "output_type": "stream",
     "text": [
      "OTHER_POSITION\n",
      "2    384\n",
      "1    268\n",
      "Name: count, dtype: int64\n",
      "USERWIKI\n",
      "0    784\n",
      "1    125\n",
      "Name: count, dtype: int64\n",
      "DOMAIN\n",
      "6    361\n",
      "1    183\n",
      "4    137\n",
      "5    101\n",
      "3     73\n",
      "2     56\n",
      "Name: count, dtype: int64\n",
      "UOC_POSITION\n",
      "6    659\n",
      "2     68\n",
      "3     50\n",
      "4     18\n",
      "1      3\n",
      "5      2\n",
      "Name: count, dtype: int64\n",
      "PU1\n",
      "3    330\n",
      "4    239\n",
      "2    216\n",
      "5     86\n",
      "1     35\n",
      "Name: count, dtype: int64\n",
      "PU2\n",
      "3    339\n",
      "4    244\n",
      "2    205\n",
      "5     81\n",
      "1     33\n",
      "Name: count, dtype: int64\n",
      "PU3\n",
      "3    312\n",
      "4    250\n",
      "5    175\n",
      "2    151\n",
      "1     20\n",
      "Name: count, dtype: int64\n",
      "PEU1\n",
      "5    466\n",
      "4    328\n",
      "3     91\n",
      "2     21\n",
      "1      3\n",
      "Name: count, dtype: int64\n",
      "PEU2\n",
      "4    409\n",
      "5    286\n",
      "3    166\n",
      "2     35\n",
      "1      3\n",
      "Name: count, dtype: int64\n",
      "PEU3\n",
      "3    355\n",
      "4    250\n",
      "5     97\n",
      "2     97\n",
      "1     17\n",
      "Name: count, dtype: int64\n",
      "ENJ1\n",
      "4    386\n",
      "5    222\n",
      "3    207\n",
      "2     72\n",
      "1     19\n",
      "Name: count, dtype: int64\n",
      "ENJ2\n",
      "4    394\n",
      "3    224\n",
      "5    208\n",
      "2     66\n",
      "1      4\n",
      "Name: count, dtype: int64\n",
      "Qu1\n",
      "3    371\n",
      "4    308\n",
      "2    163\n",
      "5     40\n",
      "1     24\n",
      "Name: count, dtype: int64\n",
      "Qu2\n",
      "4    357\n",
      "3    341\n",
      "2    114\n",
      "5     80\n",
      "1     11\n",
      "Name: count, dtype: int64\n",
      "Qu3\n",
      "3    389\n",
      "2    236\n",
      "4    215\n",
      "5     30\n",
      "1     28\n",
      "Name: count, dtype: int64\n",
      "Qu4\n",
      "3    298\n",
      "4    230\n",
      "2    196\n",
      "5    128\n",
      "1     39\n",
      "Name: count, dtype: int64\n",
      "Qu5\n",
      "3    366\n",
      "4    234\n",
      "2    183\n",
      "1     54\n",
      "5     47\n",
      "Name: count, dtype: int64\n",
      "Vis1\n",
      "3    396\n",
      "2    190\n",
      "4    170\n",
      "1     49\n",
      "5     36\n",
      "Name: count, dtype: int64\n",
      "Vis2\n",
      "3    422\n",
      "4    158\n",
      "2    145\n",
      "5     46\n",
      "1     25\n",
      "Name: count, dtype: int64\n",
      "Vis3\n",
      "1    406\n",
      "2    222\n",
      "3    161\n",
      "4     79\n",
      "5     37\n",
      "Name: count, dtype: int64\n",
      "Im1\n",
      "2    335\n",
      "3    294\n",
      "1    139\n",
      "4     98\n",
      "5     25\n",
      "Name: count, dtype: int64\n",
      "Im2\n",
      "4    298\n",
      "3    273\n",
      "2    181\n",
      "5    107\n",
      "1     34\n",
      "Name: count, dtype: int64\n",
      "Im3\n",
      "3    342\n",
      "2    218\n",
      "4    178\n",
      "1     73\n",
      "5     45\n",
      "Name: count, dtype: int64\n",
      "SA1\n",
      "5    381\n",
      "4    348\n",
      "3    142\n",
      "2     26\n",
      "1      5\n",
      "Name: count, dtype: int64\n",
      "SA2\n",
      "5    396\n",
      "4    302\n",
      "3    140\n",
      "2     50\n",
      "1     13\n",
      "Name: count, dtype: int64\n",
      "SA3\n",
      "5    496\n",
      "4    285\n",
      "3     96\n",
      "2     21\n",
      "1      4\n",
      "Name: count, dtype: int64\n",
      "Use1\n",
      "1    329\n",
      "2    272\n",
      "3    191\n",
      "4     79\n",
      "5     28\n",
      "Name: count, dtype: int64\n",
      "Use2\n",
      "1    471\n",
      "2    207\n",
      "3    137\n",
      "4     60\n",
      "5     21\n",
      "Name: count, dtype: int64\n",
      "Use3\n",
      "3    238\n",
      "2    226\n",
      "1    194\n",
      "4    184\n",
      "5     62\n",
      "Name: count, dtype: int64\n",
      "Use4\n",
      "3    237\n",
      "2    232\n",
      "1    212\n",
      "4    159\n",
      "5     50\n",
      "Name: count, dtype: int64\n",
      "Use5\n",
      "4    290\n",
      "3    278\n",
      "2    152\n",
      "5    123\n",
      "1     55\n",
      "Name: count, dtype: int64\n",
      "Pf1\n",
      "1    340\n",
      "2    218\n",
      "3    169\n",
      "4    107\n",
      "5     68\n",
      "Name: count, dtype: int64\n",
      "Pf2\n",
      "2    223\n",
      "3    215\n",
      "4    173\n",
      "1    167\n",
      "5    129\n",
      "Name: count, dtype: int64\n",
      "Pf3\n",
      "1    257\n",
      "3    212\n",
      "2    199\n",
      "4    153\n",
      "5     78\n",
      "Name: count, dtype: int64\n",
      "JR1\n",
      "4    325\n",
      "5    228\n",
      "3    203\n",
      "2     98\n",
      "1     32\n",
      "Name: count, dtype: int64\n",
      "JR2\n",
      "3    277\n",
      "4    215\n",
      "2    146\n",
      "5    117\n",
      "1    105\n",
      "Name: count, dtype: int64\n",
      "BI1\n",
      "3    344\n",
      "2    206\n",
      "4    178\n",
      "1     80\n",
      "5     73\n",
      "Name: count, dtype: int64\n",
      "BI2\n",
      "3    298\n",
      "2    207\n",
      "4    196\n",
      "5     85\n",
      "1     84\n",
      "Name: count, dtype: int64\n",
      "Inc1\n",
      "4    309\n",
      "5    251\n",
      "3    209\n",
      "2     62\n",
      "1     47\n",
      "Name: count, dtype: int64\n",
      "Inc2\n",
      "4    272\n",
      "3    260\n",
      "5    178\n",
      "2    113\n",
      "1     55\n",
      "Name: count, dtype: int64\n",
      "Inc3\n",
      "3    257\n",
      "4    250\n",
      "5    187\n",
      "2    127\n",
      "1     55\n",
      "Name: count, dtype: int64\n",
      "Inc4\n",
      "3    249\n",
      "4    243\n",
      "5    210\n",
      "2    102\n",
      "1     67\n",
      "Name: count, dtype: int64\n"
     ]
    }
   ],
   "source": [
    "categorical_columns = [\"OTHER_POSITION\",\"USERWIKI\",\"DOMAIN\",\"UOC_POSITION\",\"PU1\",\"PU2\",\"PU3\",\"PEU1\",\"PEU2\",\"PEU3\",\"ENJ1\", 'ENJ2', 'Qu1', 'Qu2','Qu3', 'Qu4', 'Qu5', \n",
    "          'Vis1', 'Vis2', 'Vis3', 'Im1', 'Im2', 'Im3', 'SA1','SA2', 'SA3', 'Use1', 'Use2', 'Use3', 'Use4', 'Use5', 'Pf1',\n",
    "          'Pf2','Pf3', 'JR1', 'JR2', 'BI1', 'BI2', 'Inc1','Inc2', 'Inc3', 'Inc4'] \n",
    "for i in categorical_columns:\n",
    "    print(data[i].value_counts())"
   ]
  },
  {
   "cell_type": "markdown",
   "id": "e69a661c",
   "metadata": {},
   "source": [
    "    This data is categorical and can take predefined values. Thus, it will be appropriate to replace the values missing with \n",
    "    the mode."
   ]
  },
  {
   "cell_type": "code",
   "execution_count": 354,
   "id": "660fe4df",
   "metadata": {
    "scrolled": true
   },
   "outputs": [
    {
     "name": "stdout",
     "output_type": "stream",
     "text": [
      "Le mode de  OTHER_POSITION  est :  2\n",
      "Le mode de  USERWIKI  est :  0\n",
      "Le mode de  DOMAIN  est :  6\n",
      "Le mode de  UOC_POSITION  est :  6\n",
      "Le mode de  PU1  est :  3\n",
      "Le mode de  PU2  est :  3\n",
      "Le mode de  PU3  est :  3\n",
      "Le mode de  PEU1  est :  5\n",
      "Le mode de  PEU2  est :  4\n",
      "Le mode de  PEU3  est :  3\n",
      "Le mode de  ENJ1  est :  4\n",
      "Le mode de  ENJ2  est :  4\n",
      "Le mode de  Qu1  est :  3\n",
      "Le mode de  Qu2  est :  4\n",
      "Le mode de  Qu3  est :  3\n",
      "Le mode de  Qu4  est :  3\n",
      "Le mode de  Qu5  est :  3\n",
      "Le mode de  Vis1  est :  3\n",
      "Le mode de  Vis2  est :  3\n",
      "Le mode de  Vis3  est :  1\n",
      "Le mode de  Im1  est :  2\n",
      "Le mode de  Im2  est :  4\n",
      "Le mode de  Im3  est :  3\n",
      "Le mode de  SA1  est :  5\n",
      "Le mode de  SA2  est :  5\n",
      "Le mode de  SA3  est :  5\n",
      "Le mode de  Use1  est :  1\n",
      "Le mode de  Use2  est :  1\n",
      "Le mode de  Use3  est :  3\n",
      "Le mode de  Use4  est :  3\n",
      "Le mode de  Use5  est :  4\n",
      "Le mode de  Pf1  est :  1\n",
      "Le mode de  Pf2  est :  2\n",
      "Le mode de  Pf3  est :  1\n",
      "Le mode de  JR1  est :  4\n",
      "Le mode de  JR2  est :  3\n",
      "Le mode de  BI1  est :  3\n",
      "Le mode de  BI2  est :  3\n",
      "Le mode de  Inc1  est :  4\n",
      "Le mode de  Inc2  est :  4\n",
      "Le mode de  Inc3  est :  3\n",
      "Le mode de  Inc4  est :  3\n"
     ]
    }
   ],
   "source": [
    "for i in categorical_columns :\n",
    "    mode = data[i].mode()\n",
    "    print(\"Le mode de \",i,\" est : \",mode[0])\n",
    "    data[i].fillna(value=mode[0], inplace = True)"
   ]
  },
  {
   "cell_type": "code",
   "execution_count": 355,
   "id": "c4c4c946",
   "metadata": {
    "scrolled": true
   },
   "outputs": [
    {
     "data": {
      "text/plain": [
       "AGE               0\n",
       "GENDER            0\n",
       "DOMAIN            0\n",
       "PhD               0\n",
       "YEARSEXP          0\n",
       "UNIVERSITY        0\n",
       "UOC_POSITION      0\n",
       "OTHER_POSITION    0\n",
       "USERWIKI          0\n",
       "PU1               0\n",
       "PU2               0\n",
       "PU3               0\n",
       "PEU1              0\n",
       "PEU2              0\n",
       "PEU3              0\n",
       "ENJ1              0\n",
       "ENJ2              0\n",
       "Qu1               0\n",
       "Qu2               0\n",
       "Qu3               0\n",
       "Qu4               0\n",
       "Qu5               0\n",
       "Vis1              0\n",
       "Vis2              0\n",
       "Vis3              0\n",
       "Im1               0\n",
       "Im2               0\n",
       "Im3               0\n",
       "SA1               0\n",
       "SA2               0\n",
       "SA3               0\n",
       "Use1              0\n",
       "Use2              0\n",
       "Use3              0\n",
       "Use4              0\n",
       "Use5              0\n",
       "Pf1               0\n",
       "Pf2               0\n",
       "Pf3               0\n",
       "JR1               0\n",
       "JR2               0\n",
       "BI1               0\n",
       "BI2               0\n",
       "Inc1              0\n",
       "Inc2              0\n",
       "Inc3              0\n",
       "Inc4              0\n",
       "Exp1              0\n",
       "Exp2              0\n",
       "Exp3              0\n",
       "Exp4              0\n",
       "Exp5              0\n",
       "dtype: int64"
      ]
     },
     "execution_count": 355,
     "metadata": {},
     "output_type": "execute_result"
    }
   ],
   "source": [
    "data.isnull().sum()"
   ]
  },
  {
   "cell_type": "markdown",
   "id": "e8af4e00",
   "metadata": {},
   "source": [
    "    => There is no more missing data."
   ]
  },
  {
   "cell_type": "code",
   "execution_count": 356,
   "id": "aceb7e36",
   "metadata": {
    "scrolled": true
   },
   "outputs": [
    {
     "name": "stdout",
     "output_type": "stream",
     "text": [
      "AGE\n",
      "43    49\n",
      "46    44\n",
      "42    44\n",
      "39    44\n",
      "45    43\n",
      "33    43\n",
      "38    42\n",
      "41    41\n",
      "35    38\n",
      "44    38\n",
      "40    38\n",
      "48    35\n",
      "36    35\n",
      "47    32\n",
      "49    32\n",
      "37    31\n",
      "34    30\n",
      "50    28\n",
      "31    23\n",
      "52    22\n",
      "32    21\n",
      "51    18\n",
      "53    16\n",
      "29    13\n",
      "56    11\n",
      "54    11\n",
      "28    11\n",
      "55    10\n",
      "30     9\n",
      "58     8\n",
      "59     7\n",
      "62     7\n",
      "60     6\n",
      "57     5\n",
      "26     5\n",
      "63     4\n",
      "27     4\n",
      "24     3\n",
      "65     2\n",
      "25     2\n",
      "23     2\n",
      "61     2\n",
      "67     1\n",
      "64     1\n",
      "69     1\n",
      "68     1\n",
      "Name: count, dtype: int64\n",
      "\n",
      "GENDER\n",
      "0    525\n",
      "1    388\n",
      "Name: count, dtype: int64\n",
      "\n",
      "DOMAIN\n",
      "6    363\n",
      "1    183\n",
      "4    137\n",
      "5    101\n",
      "3     73\n",
      "2     56\n",
      "Name: count, dtype: int64\n",
      "\n",
      "PhD\n",
      "0    489\n",
      "1    424\n",
      "Name: count, dtype: int64\n",
      "\n",
      "YEARSEXP\n",
      "10.0    100\n",
      "3.0      65\n",
      "15.0     62\n",
      "5.0      61\n",
      "4.0      59\n",
      "20.0     56\n",
      "12.0     53\n",
      "7.0      47\n",
      "1.0      43\n",
      "6.0      42\n",
      "8.0      42\n",
      "2.0      39\n",
      "18.0     25\n",
      "14.0     24\n",
      "25.0     22\n",
      "9.0      21\n",
      "11.0     21\n",
      "16.0     19\n",
      "13.0     19\n",
      "17.0     17\n",
      "22.0     13\n",
      "23.0     11\n",
      "19.0     10\n",
      "30.0      8\n",
      "21.0      7\n",
      "24.0      5\n",
      "37.0      3\n",
      "0.0       3\n",
      "27.0      3\n",
      "26.0      3\n",
      "35.0      3\n",
      "28.0      2\n",
      "36.0      2\n",
      "43.0      1\n",
      "31.0      1\n",
      "39.0      1\n",
      "Name: count, dtype: int64\n",
      "\n",
      "UNIVERSITY\n",
      "1    800\n",
      "2    113\n",
      "Name: count, dtype: int64\n",
      "\n",
      "UOC_POSITION\n",
      "6    772\n",
      "2     68\n",
      "3     50\n",
      "4     18\n",
      "1      3\n",
      "5      2\n",
      "Name: count, dtype: int64\n",
      "\n",
      "OTHER_POSITION\n",
      "2    645\n",
      "1    268\n",
      "Name: count, dtype: int64\n",
      "\n",
      "USERWIKI\n",
      "0    788\n",
      "1    125\n",
      "Name: count, dtype: int64\n",
      "\n",
      "PU1\n",
      "3    337\n",
      "4    239\n",
      "2    216\n",
      "5     86\n",
      "1     35\n",
      "Name: count, dtype: int64\n",
      "\n",
      "PU2\n",
      "3    350\n",
      "4    244\n",
      "2    205\n",
      "5     81\n",
      "1     33\n",
      "Name: count, dtype: int64\n",
      "\n",
      "PU3\n",
      "3    317\n",
      "4    250\n",
      "5    175\n",
      "2    151\n",
      "1     20\n",
      "Name: count, dtype: int64\n",
      "\n",
      "PEU1\n",
      "5    470\n",
      "4    328\n",
      "3     91\n",
      "2     21\n",
      "1      3\n",
      "Name: count, dtype: int64\n",
      "\n",
      "PEU2\n",
      "4    423\n",
      "5    286\n",
      "3    166\n",
      "2     35\n",
      "1      3\n",
      "Name: count, dtype: int64\n",
      "\n",
      "PEU3\n",
      "3    452\n",
      "4    250\n",
      "5     97\n",
      "2     97\n",
      "1     17\n",
      "Name: count, dtype: int64\n",
      "\n",
      "ENJ1\n",
      "4    393\n",
      "5    222\n",
      "3    207\n",
      "2     72\n",
      "1     19\n",
      "Name: count, dtype: int64\n",
      "\n",
      "ENJ2\n",
      "4    411\n",
      "3    224\n",
      "5    208\n",
      "2     66\n",
      "1      4\n",
      "Name: count, dtype: int64\n",
      "\n",
      "Qu1\n",
      "3    378\n",
      "4    308\n",
      "2    163\n",
      "5     40\n",
      "1     24\n",
      "Name: count, dtype: int64\n",
      "\n",
      "Qu2\n",
      "4    367\n",
      "3    341\n",
      "2    114\n",
      "5     80\n",
      "1     11\n",
      "Name: count, dtype: int64\n",
      "\n",
      "Qu3\n",
      "3    404\n",
      "2    236\n",
      "4    215\n",
      "5     30\n",
      "1     28\n",
      "Name: count, dtype: int64\n",
      "\n",
      "Qu4\n",
      "3    320\n",
      "4    230\n",
      "2    196\n",
      "5    128\n",
      "1     39\n",
      "Name: count, dtype: int64\n",
      "\n",
      "Qu5\n",
      "3    395\n",
      "4    234\n",
      "2    183\n",
      "1     54\n",
      "5     47\n",
      "Name: count, dtype: int64\n",
      "\n",
      "Vis1\n",
      "3    468\n",
      "2    190\n",
      "4    170\n",
      "1     49\n",
      "5     36\n",
      "Name: count, dtype: int64\n",
      "\n",
      "Vis2\n",
      "3    539\n",
      "4    158\n",
      "2    145\n",
      "5     46\n",
      "1     25\n",
      "Name: count, dtype: int64\n",
      "\n",
      "Vis3\n",
      "1    414\n",
      "2    222\n",
      "3    161\n",
      "4     79\n",
      "5     37\n",
      "Name: count, dtype: int64\n",
      "\n",
      "Im1\n",
      "2    357\n",
      "3    294\n",
      "1    139\n",
      "4     98\n",
      "5     25\n",
      "Name: count, dtype: int64\n",
      "\n",
      "Im2\n",
      "4    318\n",
      "3    273\n",
      "2    181\n",
      "5    107\n",
      "1     34\n",
      "Name: count, dtype: int64\n",
      "\n",
      "Im3\n",
      "3    399\n",
      "2    218\n",
      "4    178\n",
      "1     73\n",
      "5     45\n",
      "Name: count, dtype: int64\n",
      "\n",
      "SA1\n",
      "5    392\n",
      "4    348\n",
      "3    142\n",
      "2     26\n",
      "1      5\n",
      "Name: count, dtype: int64\n",
      "\n",
      "SA2\n",
      "5    408\n",
      "4    302\n",
      "3    140\n",
      "2     50\n",
      "1     13\n",
      "Name: count, dtype: int64\n",
      "\n",
      "SA3\n",
      "5    507\n",
      "4    285\n",
      "3     96\n",
      "2     21\n",
      "1      4\n",
      "Name: count, dtype: int64\n",
      "\n",
      "Use1\n",
      "1    343\n",
      "2    272\n",
      "3    191\n",
      "4     79\n",
      "5     28\n",
      "Name: count, dtype: int64\n",
      "\n",
      "Use2\n",
      "1    488\n",
      "2    207\n",
      "3    137\n",
      "4     60\n",
      "5     21\n",
      "Name: count, dtype: int64\n",
      "\n",
      "Use3\n",
      "3    247\n",
      "2    226\n",
      "1    194\n",
      "4    184\n",
      "5     62\n",
      "Name: count, dtype: int64\n",
      "\n",
      "Use4\n",
      "3    260\n",
      "2    232\n",
      "1    212\n",
      "4    159\n",
      "5     50\n",
      "Name: count, dtype: int64\n",
      "\n",
      "Use5\n",
      "4    305\n",
      "3    278\n",
      "2    152\n",
      "5    123\n",
      "1     55\n",
      "Name: count, dtype: int64\n",
      "\n",
      "Pf1\n",
      "1    351\n",
      "2    218\n",
      "3    169\n",
      "4    107\n",
      "5     68\n",
      "Name: count, dtype: int64\n",
      "\n",
      "Pf2\n",
      "2    229\n",
      "3    215\n",
      "4    173\n",
      "1    167\n",
      "5    129\n",
      "Name: count, dtype: int64\n",
      "\n",
      "Pf3\n",
      "1    271\n",
      "3    212\n",
      "2    199\n",
      "4    153\n",
      "5     78\n",
      "Name: count, dtype: int64\n",
      "\n",
      "JR1\n",
      "4    352\n",
      "5    228\n",
      "3    203\n",
      "2     98\n",
      "1     32\n",
      "Name: count, dtype: int64\n",
      "\n",
      "JR2\n",
      "3    330\n",
      "4    215\n",
      "2    146\n",
      "5    117\n",
      "1    105\n",
      "Name: count, dtype: int64\n",
      "\n",
      "BI1\n",
      "3    376\n",
      "2    206\n",
      "4    178\n",
      "1     80\n",
      "5     73\n",
      "Name: count, dtype: int64\n",
      "\n",
      "BI2\n",
      "3    341\n",
      "2    207\n",
      "4    196\n",
      "5     85\n",
      "1     84\n",
      "Name: count, dtype: int64\n",
      "\n",
      "Inc1\n",
      "4    344\n",
      "5    251\n",
      "3    209\n",
      "2     62\n",
      "1     47\n",
      "Name: count, dtype: int64\n",
      "\n",
      "Inc2\n",
      "4    307\n",
      "3    260\n",
      "5    178\n",
      "2    113\n",
      "1     55\n",
      "Name: count, dtype: int64\n",
      "\n",
      "Inc3\n",
      "3    294\n",
      "4    250\n",
      "5    187\n",
      "2    127\n",
      "1     55\n",
      "Name: count, dtype: int64\n",
      "\n",
      "Inc4\n",
      "3    291\n",
      "4    243\n",
      "5    210\n",
      "2    102\n",
      "1     67\n",
      "Name: count, dtype: int64\n",
      "\n",
      "Exp1\n",
      "4.0    249\n",
      "3.0    236\n",
      "2.0    232\n",
      "1.0    102\n",
      "5.0     94\n",
      "Name: count, dtype: int64\n",
      "\n",
      "Exp2\n",
      "4.0    338\n",
      "3.0    222\n",
      "5.0    172\n",
      "2.0    135\n",
      "1.0     46\n",
      "Name: count, dtype: int64\n",
      "\n",
      "Exp3\n",
      "4.0    353\n",
      "5.0    223\n",
      "3.0    174\n",
      "2.0    126\n",
      "1.0     37\n",
      "Name: count, dtype: int64\n",
      "\n",
      "Exp4\n",
      "1.0    594\n",
      "2.0    176\n",
      "3.0     91\n",
      "4.0     37\n",
      "5.0     15\n",
      "Name: count, dtype: int64\n",
      "\n",
      "Exp5\n",
      "1.0    292\n",
      "2.0    223\n",
      "4.0    158\n",
      "3.0    153\n",
      "5.0     87\n",
      "Name: count, dtype: int64\n",
      "\n"
     ]
    }
   ],
   "source": [
    "for i in data.columns : \n",
    "    print(data[i].value_counts())\n",
    "    print()"
   ]
  },
  {
   "cell_type": "markdown",
   "id": "47295f39",
   "metadata": {},
   "source": [
    "    => There is no outlier data and all columns are coded. Thus, our dataset is ready to be handled."
   ]
  }
 ],
 "metadata": {
  "kernelspec": {
   "display_name": "Python 3 (ipykernel)",
   "language": "python",
   "name": "python3"
  },
  "language_info": {
   "codemirror_mode": {
    "name": "ipython",
    "version": 3
   },
   "file_extension": ".py",
   "mimetype": "text/x-python",
   "name": "python",
   "nbconvert_exporter": "python",
   "pygments_lexer": "ipython3",
   "version": "3.9.12"
  }
 },
 "nbformat": 4,
 "nbformat_minor": 5
}
